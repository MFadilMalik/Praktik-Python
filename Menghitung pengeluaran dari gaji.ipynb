{
 "cells": [
  {
   "cell_type": "code",
   "execution_count": 1,
   "metadata": {},
   "outputs": [
    {
     "name": "stdout",
     "output_type": "stream",
     "text": [
      "Menghitung Penghasilan Dobleh oleh @fadilmalik_\n",
      "****************************************\n",
      "Gaji Perjam yang di inginkan : 10000000\n",
      "Jumlah jam kerja selama seminggu : 6\n",
      "--------------------\n",
      "# Gaji yang diterima: 60000000.0\n",
      "--------------------\n",
      "# Gaji setelah bayar pajak: 51600000.0\n",
      "--------------------\n",
      "# Gaji setelah beli baju dan aksesoris: 46440000.0\n",
      "--------------------\n",
      "# Gaji setelah beli ATK: 45975600.0\n",
      "--------------------\n",
      "# Gaji setelah zakat: 34481700.0\n",
      "--------------------\n",
      "# Gaji setelah sedekah yatim: 10344510.0\n",
      "--------------------\n",
      "# Gaji setelah sedekah dhuafa: 24137190.0\n",
      "****************************************\n"
     ]
    }
   ],
   "source": [
    "print(\"Menghitung Penghasilan Dobleh oleh @fadilmalik_\")\n",
    "print(\"*\"*40)\n",
    "\n",
    "gaji_perjam = float(input(\"Gaji Perjam yang di inginkan : \"))\n",
    "jumlah_jam = float(input(\"Jumlah jam kerja selama seminggu : \"))\n",
    "\n",
    "gaji_bersih = gaji_perjam * jumlah_jam\n",
    "pajak = gaji_bersih-(gaji_bersih*0.14)\n",
    "baju_aksesoris = (gaji_bersih-(gaji_bersih*0.14)-(pajak*10/100))\n",
    "alat_tulis = (baju_aksesoris - (baju_aksesoris*0.01))\n",
    "sedekah = (alat_tulis - (alat_tulis*0.25))\n",
    "yatim = (sedekah*0.30)\n",
    "dhuafa = (sedekah*0.70)\n",
    "\n",
    "print(\"-\"*20)\n",
    "print(\"# Gaji yang diterima:\",gaji_bersih)\n",
    "print(\"-\"*20)\n",
    "print(\"# Gaji setelah bayar pajak:\",pajak)\n",
    "print(\"-\"*20)\n",
    "print(\"# Gaji setelah beli baju dan aksesoris:\",baju_aksesoris)\n",
    "print(\"-\"*20)\n",
    "print(\"# Gaji setelah beli ATK:\",alat_tulis)\n",
    "print(\"-\"*20)\n",
    "print(\"# Gaji setelah zakat:\",sedekah)\n",
    "print(\"-\"*20)\n",
    "print(\"# Gaji setelah sedekah yatim:\",yatim)\n",
    "print(\"-\"*20)\n",
    "print(\"# Gaji setelah sedekah dhuafa:\",dhuafa)\n",
    "\n",
    "print(\"*\"*40)"
   ]
  },
  {
   "cell_type": "code",
   "execution_count": null,
   "metadata": {},
   "outputs": [],
   "source": []
  }
 ],
 "metadata": {
  "kernelspec": {
   "display_name": "Python 3",
   "language": "python",
   "name": "python3"
  },
  "language_info": {
   "codemirror_mode": {
    "name": "ipython",
    "version": 3
   },
   "file_extension": ".py",
   "mimetype": "text/x-python",
   "name": "python",
   "nbconvert_exporter": "python",
   "pygments_lexer": "ipython3",
   "version": "3.7.1"
  }
 },
 "nbformat": 4,
 "nbformat_minor": 2
}
