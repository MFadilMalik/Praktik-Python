{
 "cells": [
  {
   "cell_type": "code",
   "execution_count": 8,
   "metadata": {},
   "outputs": [
    {
     "name": "stdout",
     "output_type": "stream",
     "text": [
      "Pilihan | 1. US ke RP | 2. RP ke US | : 1\n",
      "Masukan nominal ($)4\n",
      "Hasil Rupiah : 58000\n"
     ]
    }
   ],
   "source": [
    "pilihan = int(input(\"Pilihan | 1. US ke RP | 2. RP ke US | : \"))\n",
    "\n",
    "if pilihan == 1:\n",
    "    us = int(input(\"Masukan nominal ($)\"))\n",
    "    rp = us * 14500\n",
    "    print(\"Hasil Rupiah :\",rp)\n",
    "else:\n",
    "    rp = int(input(\"Masukan nominal (Rp)\"))\n",
    "    us = rp / 14500\n",
    "    print(\"Hasil Dolar :\",us)"
   ]
  },
  {
   "cell_type": "code",
   "execution_count": null,
   "metadata": {},
   "outputs": [],
   "source": []
  }
 ],
 "metadata": {
  "kernelspec": {
   "display_name": "Python 3",
   "language": "python",
   "name": "python3"
  },
  "language_info": {
   "codemirror_mode": {
    "name": "ipython",
    "version": 3
   },
   "file_extension": ".py",
   "mimetype": "text/x-python",
   "name": "python",
   "nbconvert_exporter": "python",
   "pygments_lexer": "ipython3",
   "version": "3.7.1"
  }
 },
 "nbformat": 4,
 "nbformat_minor": 2
}
