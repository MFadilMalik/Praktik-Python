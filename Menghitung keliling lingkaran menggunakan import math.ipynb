{
 "cells": [
  {
   "cell_type": "code",
   "execution_count": 3,
   "metadata": {},
   "outputs": [
    {
     "name": "stdout",
     "output_type": "stream",
     "text": [
      "Masukan panjang jari-jari lingkaran: 5\n",
      "Luas lingkaran adalah :  78.54\n",
      "Keliling lingkaran adalah :  31.42\n"
     ]
    }
   ],
   "source": [
    "import math as m\n",
    "\n",
    "r = float(input(\"Masukan panjang jari-jari lingkaran: \"))\n",
    "L = m.pi*r*r\n",
    "K = 2*m.pi*r\n",
    "print(\"Luas lingkaran adalah : \",round (L,2))\n",
    "print(\"Keliling lingkaran adalah : \",round (K,2))"
   ]
  },
  {
   "cell_type": "code",
   "execution_count": null,
   "metadata": {},
   "outputs": [],
   "source": []
  }
 ],
 "metadata": {
  "kernelspec": {
   "display_name": "Python 3",
   "language": "python",
   "name": "python3"
  },
  "language_info": {
   "codemirror_mode": {
    "name": "ipython",
    "version": 3
   },
   "file_extension": ".py",
   "mimetype": "text/x-python",
   "name": "python",
   "nbconvert_exporter": "python",
   "pygments_lexer": "ipython3",
   "version": "3.7.1"
  }
 },
 "nbformat": 4,
 "nbformat_minor": 2
}
