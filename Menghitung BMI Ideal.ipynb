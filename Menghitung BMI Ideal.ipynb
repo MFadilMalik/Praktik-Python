{
 "cells": [
  {
   "cell_type": "code",
   "execution_count": 12,
   "metadata": {},
   "outputs": [
    {
     "name": "stdout",
     "output_type": "stream",
     "text": [
      "Masukan Berat Badan (kg) = 60\n",
      "Masukan Tinggi Badan (m) = 1.7\n",
      "Status BMI anda : normal\n"
     ]
    }
   ],
   "source": [
    "berat = float(input(\"Masukan Berat Badan (kg) = \"))\n",
    "tinggi = float(input(\"Masukan Tinggi Badan (m) = \"))\n",
    "\n",
    "bmi = berat / (tinggi**2)\n",
    "if bmi > 22.9:\n",
    "    status = \"overweight\"\n",
    "elif bmi > 18.5:\n",
    "    status = \"normal\"\n",
    "else:\n",
    "    status = \"underweight\"\n",
    "print(\"Status BMI anda :\",status)"
   ]
  },
  {
   "cell_type": "code",
   "execution_count": null,
   "metadata": {},
   "outputs": [],
   "source": []
  }
 ],
 "metadata": {
  "kernelspec": {
   "display_name": "Python 3",
   "language": "python",
   "name": "python3"
  },
  "language_info": {
   "codemirror_mode": {
    "name": "ipython",
    "version": 3
   },
   "file_extension": ".py",
   "mimetype": "text/x-python",
   "name": "python",
   "nbconvert_exporter": "python",
   "pygments_lexer": "ipython3",
   "version": "3.7.1"
  }
 },
 "nbformat": 4,
 "nbformat_minor": 2
}
