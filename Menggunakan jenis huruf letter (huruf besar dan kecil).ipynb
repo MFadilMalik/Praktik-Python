{
 "cells": [
  {
   "cell_type": "code",
   "execution_count": 6,
   "metadata": {},
   "outputs": [
    {
     "name": "stdout",
     "output_type": "stream",
     "text": [
      "Input Nama : Muhamad Fadil Malik\n",
      "M H M D F D L M L K "
     ]
    }
   ],
   "source": [
    "nama = input(\"Input Nama : \")\n",
    "def hapusVokal(nama):\n",
    "    for letter in nama:\n",
    "        if letter.upper() in [' ','A',\"I\",\"U\",\"E\",\"O\"]:\n",
    "            continue\n",
    "        print(letter.upper(),end=\" \")\n",
    "hapusVokal(nama)"
   ]
  },
  {
   "cell_type": "code",
   "execution_count": null,
   "metadata": {},
   "outputs": [],
   "source": []
  }
 ],
 "metadata": {
  "kernelspec": {
   "display_name": "Python 3",
   "language": "python",
   "name": "python3"
  },
  "language_info": {
   "codemirror_mode": {
    "name": "ipython",
    "version": 3
   },
   "file_extension": ".py",
   "mimetype": "text/x-python",
   "name": "python",
   "nbconvert_exporter": "python",
   "pygments_lexer": "ipython3",
   "version": "3.7.1"
  }
 },
 "nbformat": 4,
 "nbformat_minor": 2
}
