{
 "cells": [
  {
   "cell_type": "code",
   "execution_count": 6,
   "metadata": {},
   "outputs": [
    {
     "name": "stdout",
     "output_type": "stream",
     "text": [
      "nilai = 5\n",
      "nilai = 5\n",
      "nilai = 5\n",
      "hasil penjumlahan = 15\n",
      "Masukan nilai 2\n",
      "Masukan nilai 2\n",
      "Masukan nilai 2\n",
      "Jumlah nilai yang dimasukan adalah = 6\n"
     ]
    }
   ],
   "source": [
    "i=0\n",
    "b=0\n",
    "for i in range(3):\n",
    "    a=int(input(\"nilai = \"))\n",
    "    b+=a\n",
    "print(\"hasil penjumlahan =\",b)\n",
    "\n",
    "nilai = 0;\n",
    "\n",
    "for i in range(3):\n",
    "    nilaix = int(input(\"Masukan nilai \"))\n",
    "    nilaix += nilai\n",
    "    nilai = nilaix\n",
    "    \n",
    "print(\"Jumlah nilai yang dimasukan adalah =\",nilai)"
   ]
  },
  {
   "cell_type": "code",
   "execution_count": null,
   "metadata": {},
   "outputs": [],
   "source": []
  }
 ],
 "metadata": {
  "kernelspec": {
   "display_name": "Python 3",
   "language": "python",
   "name": "python3"
  },
  "language_info": {
   "codemirror_mode": {
    "name": "ipython",
    "version": 3
   },
   "file_extension": ".py",
   "mimetype": "text/x-python",
   "name": "python",
   "nbconvert_exporter": "python",
   "pygments_lexer": "ipython3",
   "version": "3.7.1"
  }
 },
 "nbformat": 4,
 "nbformat_minor": 2
}
