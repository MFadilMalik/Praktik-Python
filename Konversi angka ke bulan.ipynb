{
 "cells": [
  {
   "cell_type": "code",
   "execution_count": 2,
   "metadata": {},
   "outputs": [
    {
     "name": "stdout",
     "output_type": "stream",
     "text": [
      "Konversi Angka ke Bulan oleh @fadilmalik_\n",
      "****************************************\n",
      "Masukkan Angka : 5\n",
      "5 Konversi Bulan Mei\n",
      "****************************************\n"
     ]
    }
   ],
   "source": [
    "print(\"Konversi Angka ke Bulan oleh @fadilmalik_\")\n",
    "print(\"*\"*40)\n",
    "\n",
    "bulan_angka = int(input(\"Masukkan Angka : \"))\n",
    "\n",
    "if bulan_angka == 1:\n",
    "    print(bulan_angka, \"Konversi Bulan\", \"Januari\")\n",
    "elif bulan_angka == 2:\n",
    "    print(bulan_angka, \"Konversi Bulan\", \"Februari\")\n",
    "elif bulan_angka == 3:\n",
    "    print(bulan_angka, \"Konversi Bulan\", \"Maret\")\n",
    "elif bulan_angka == 4:\n",
    "    print(bulan_angka, \"Konversi Bulan\", \"April\")\n",
    "elif bulan_angka == 5:\n",
    "    print(bulan_angka, \"Konversi Bulan\", \"Mei\")\n",
    "elif bulan_angka == 6:\n",
    "    print(bulan_angka, \"Konversi Bulan\", \"Juni\")\n",
    "elif bulan_angka == 7:\n",
    "    print(bulan_angka, \"Konversi Bulan\", \"Juli\")\n",
    "elif bulan_angka == 8:\n",
    "    print(bulan_angka, \"Konversi Bulan\", \"Agustus\")\n",
    "elif bulan_angka == 9:\n",
    "    print(bulan_angka, \"Konversi Bulan\", \"September\")\n",
    "elif bulan_angka == 10:\n",
    "    print(bulan_angka, \"Konversi Bulan\", \"Oktober\")\n",
    "elif bulan_angka == 11:\n",
    "    print(bulan_angka, \"Konversi Bulan\", \"November\")\n",
    "elif bulan_angka == 12:\n",
    "    print(bulan_angka, \"Konversi Bulan\", \"Desember\")\n",
    "else:\n",
    "    print(\"Error, Hanya masukkan rentang angka 1 sampai 12\")\n",
    "    \n",
    "print(\"*\"*40)"
   ]
  },
  {
   "cell_type": "code",
   "execution_count": null,
   "metadata": {},
   "outputs": [],
   "source": []
  }
 ],
 "metadata": {
  "kernelspec": {
   "display_name": "Python 3",
   "language": "python",
   "name": "python3"
  },
  "language_info": {
   "codemirror_mode": {
    "name": "ipython",
    "version": 3
   },
   "file_extension": ".py",
   "mimetype": "text/x-python",
   "name": "python",
   "nbconvert_exporter": "python",
   "pygments_lexer": "ipython3",
   "version": "3.7.1"
  }
 },
 "nbformat": 4,
 "nbformat_minor": 2
}
