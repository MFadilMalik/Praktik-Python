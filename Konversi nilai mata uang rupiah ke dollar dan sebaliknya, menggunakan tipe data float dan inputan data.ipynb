{
 "cells": [
  {
   "cell_type": "code",
   "execution_count": 1,
   "metadata": {},
   "outputs": [
    {
     "name": "stdout",
     "output_type": "stream",
     "text": [
      "Masukan Uang (Rp) = 14500\n",
      "$ 1.0\n",
      "Masukan Dolar: 1\n",
      "Harga Rupiah : Rp. 14500\n"
     ]
    }
   ],
   "source": [
    "rupiah = int(input(\"Masukan Uang (Rp) = \")) #integer bisa diganti dengan float\n",
    "dolar = rupiah / 14500\n",
    "print(\"$\",dolar)\n",
    "\n",
    "dolar1 = int(input(\"Masukan Dolar: \"))\n",
    "rupiah = int(dolar1*14500)\n",
    "print(\"Harga Rupiah : Rp.\",rupiah)"
   ]
  },
  {
   "cell_type": "code",
   "execution_count": null,
   "metadata": {},
   "outputs": [],
   "source": []
  }
 ],
 "metadata": {
  "kernelspec": {
   "display_name": "Python 3",
   "language": "python",
   "name": "python3"
  },
  "language_info": {
   "codemirror_mode": {
    "name": "ipython",
    "version": 3
   },
   "file_extension": ".py",
   "mimetype": "text/x-python",
   "name": "python",
   "nbconvert_exporter": "python",
   "pygments_lexer": "ipython3",
   "version": "3.7.1"
  }
 },
 "nbformat": 4,
 "nbformat_minor": 2
}
