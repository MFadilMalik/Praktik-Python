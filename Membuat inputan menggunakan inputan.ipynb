{
 "cells": [
  {
   "cell_type": "code",
   "execution_count": 2,
   "metadata": {},
   "outputs": [
    {
     "name": "stdout",
     "output_type": "stream",
     "text": [
      "Biodata Guru oleh @fadilmalik_\n",
      "****************************************\n",
      "Nama: Acep Rahmat\n",
      "Tempat Lahir: Bogor\n",
      "Tahun Lahir: 1992\n",
      "Kota Asal: Bogor\n",
      "Sekolah Tempat Mengajar: SMK Wikrama Bogor\n",
      "Jumlah Siswa: 1633\n",
      "****************************************\n",
      "List Awal:  ['Acep Rahmat', 'Bogor', 1992, 'Bogor', 'SMK Wikrama Bogor', 1633]\n",
      "****************************************\n",
      "Nama saya Acep Rahmat . Saya Lahir di Bogor . Saya tinggal di Bogor . Mengajar di SMK Wikrama Bogor . Saya memiliki siswa 1633 orang. Tahun depan, saya akan berusia 28 tahun dan akan memiliki siswa sebanyak 3266 orang\n"
     ]
    }
   ],
   "source": [
    "print(\"Biodata Guru oleh @fadilmalik_\")\n",
    "print(\"*\"*40)\n",
    "\n",
    "data_diri = []\n",
    "nama = input(\"Nama: \")\n",
    "tempat_lahir = input(\"Tempat Lahir: \")\n",
    "tahun_lahir = int(input(\"Tahun Lahir: \"))\n",
    "kota_asal = input(\"Kota Asal: \")\n",
    "sekolah_ajar = input(\"Sekolah Tempat Mengajar: \")\n",
    "jumlah_siswa = int(input(\"Jumlah Siswa: \"))\n",
    "\n",
    "print(\"*\"*40)\n",
    "data_diri.extend([nama, tempat_lahir, tahun_lahir, kota_asal, sekolah_ajar, jumlah_siswa])\n",
    "print(\"List Awal: \",data_diri)\n",
    "\n",
    "umur = 2019-tahun_lahir\n",
    "umur_thn_depan = umur + 1\n",
    "siswa_thn_depan = jumlah_siswa * 2\n",
    "print(\"*\"*40)\n",
    "print(\"Nama saya\",nama,\".\",\"Saya Lahir di\",tempat_lahir,\".\",\"Saya tinggal di\",kota_asal,\".\",\"Mengajar di\",sekolah_ajar,\n",
    "     \".\",\"Saya memiliki siswa\",jumlah_siswa,\"orang.\",\"Tahun depan, saya akan berusia\",umur_thn_depan,\n",
    "     \"tahun dan akan memiliki siswa sebanyak\",siswa_thn_depan,\"orang\")"
   ]
  },
  {
   "cell_type": "code",
   "execution_count": null,
   "metadata": {},
   "outputs": [],
   "source": []
  }
 ],
 "metadata": {
  "kernelspec": {
   "display_name": "Python 3",
   "language": "python",
   "name": "python3"
  },
  "language_info": {
   "codemirror_mode": {
    "name": "ipython",
    "version": 3
   },
   "file_extension": ".py",
   "mimetype": "text/x-python",
   "name": "python",
   "nbconvert_exporter": "python",
   "pygments_lexer": "ipython3",
   "version": "3.7.1"
  }
 },
 "nbformat": 4,
 "nbformat_minor": 2
}
