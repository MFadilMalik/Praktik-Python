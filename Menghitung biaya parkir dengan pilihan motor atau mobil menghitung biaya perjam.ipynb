{
 "cells": [
  {
   "cell_type": "code",
   "execution_count": 3,
   "metadata": {},
   "outputs": [
    {
     "name": "stdout",
     "output_type": "stream",
     "text": [
      "Program Parkir oleh @fadilmalik_\n",
      "****************************************\n",
      "Pilihan | 1. Mobil | 2. Motor| :2\n",
      "Lama Parkir : 4\n",
      "Jenis Motor - Total Bayar :  4 Jam adalah 7000\n",
      "****************************************\n"
     ]
    }
   ],
   "source": [
    "print(\"Program Parkir oleh @fadilmalik_\")\n",
    "print(\"*\"*40)\n",
    "\n",
    "pilihan = int(input(\"Pilihan | 1. Mobil | 2. Motor| :\"))\n",
    "\n",
    "if pilihan == 1:\n",
    "    mobil = int(input(\"Lama Parkir : \"))\n",
    "    if mobil <= 2:\n",
    "        bayar = 1 * 3000\n",
    "    elif mobil > 2 and mobil < 24:\n",
    "        bayar = ((mobil-2)*4000) + 3000\n",
    "    else:\n",
    "        bayar = ((mobil-2)*4000) + 3000 + 100000\n",
    "    print(\"Jenis Mobil - Total Bayar : \",mobil,\"Jam adalah\", bayar)\n",
    "elif pilihan == 2:\n",
    "    motor = int(input(\"Lama Parkir : \"))\n",
    "    if motor <= 2:\n",
    "        bayar = 1 * 3000\n",
    "    elif motor > 2 and motor < 24:\n",
    "        bayar = ((motor-2)*2000) + 3000\n",
    "    else:\n",
    "        bayar = ((motor-2)*2000) + 3000 + 100000\n",
    "    print(\"Jenis Motor - Total Bayar : \",motor,\"Jam adalah\", bayar)\n",
    "else:\n",
    "    print(\"Error, Hanya terdapat 2 jenis pilihan.\")\n",
    "print(\"*\"*40)"
   ]
  },
  {
   "cell_type": "code",
   "execution_count": null,
   "metadata": {},
   "outputs": [],
   "source": []
  }
 ],
 "metadata": {
  "kernelspec": {
   "display_name": "Python 3",
   "language": "python",
   "name": "python3"
  },
  "language_info": {
   "codemirror_mode": {
    "name": "ipython",
    "version": 3
   },
   "file_extension": ".py",
   "mimetype": "text/x-python",
   "name": "python",
   "nbconvert_exporter": "python",
   "pygments_lexer": "ipython3",
   "version": "3.7.1"
  }
 },
 "nbformat": 4,
 "nbformat_minor": 2
}
