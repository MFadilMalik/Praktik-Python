{
 "cells": [
  {
   "cell_type": "code",
   "execution_count": 2,
   "metadata": {},
   "outputs": [
    {
     "name": "stdout",
     "output_type": "stream",
     "text": [
      "Masukkan panjang: 5\n",
      "Masukkan lebar: 5\n",
      "Masukkan tinggi: 5\n",
      "Volume : 125\n",
      "Luas Permukaan : 150\n"
     ]
    }
   ],
   "source": [
    "a=int(input(\"Masukkan panjang: \"))\n",
    "b=int(input(\"Masukkan lebar: \"))\n",
    "c=int(input(\"Masukkan tinggi: \"))\n",
    "\n",
    "v=(a*b*c)\n",
    "l=2*(a*b+a*c+b*c)\n",
    "\n",
    "print(\"Volume :\",round(v,2))\n",
    "print(\"Luas Permukaan :\",round(l,2))"
   ]
  },
  {
   "cell_type": "code",
   "execution_count": null,
   "metadata": {},
   "outputs": [],
   "source": []
  }
 ],
 "metadata": {
  "kernelspec": {
   "display_name": "Python 3",
   "language": "python",
   "name": "python3"
  },
  "language_info": {
   "codemirror_mode": {
    "name": "ipython",
    "version": 3
   },
   "file_extension": ".py",
   "mimetype": "text/x-python",
   "name": "python",
   "nbconvert_exporter": "python",
   "pygments_lexer": "ipython3",
   "version": "3.7.1"
  }
 },
 "nbformat": 4,
 "nbformat_minor": 2
}
